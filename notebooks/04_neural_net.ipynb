{
 "cells": [
  {
   "cell_type": "markdown",
   "id": "fa978f86",
   "metadata": {},
   "source": [
    "# 04 - Neural Networks\n",
    "\n",
    "#### Let's get to the real deal ML - neural nets, aka Multilayer Perceptrons.\n",
    "\n",
    "We'll **build a minimal neural net from scratch** and use it to predict a single number from a synthetic dataset.  \n",
    "\n",
    "**Architecture**: 2 input vars, 1 layer of 4 hidden neurons, one continuous output"
   ]
  },
  {
   "cell_type": "markdown",
   "id": "8a47a9fb",
   "metadata": {},
   "source": [
    "## What we'll do\n",
    "0. Setup & make a tiny synthetic dataset (2 features, 1 target)  \n",
    "1. Define the loss function (**MSE**)  \n",
    "2. Define the **forward pass** (with bias via input augmentation)  \n",
    "3**Backprop**: derive gradients and implement training loop (next, after you confirm)"
   ]
  },
  {
   "cell_type": "markdown",
   "id": "49d763f9",
   "metadata": {},
   "source": [
    "## 0. Setup & synthetic data\n",
    "\n",
    "We'll create a small nonlinear target so the hidden layer is actually useful."
   ]
  },
  {
   "cell_type": "code",
   "id": "d5d8e122",
   "metadata": {
    "ExecuteTime": {
     "end_time": "2025-09-08T21:41:00.046818Z",
     "start_time": "2025-09-08T21:40:49.917771Z"
    }
   },
   "source": [
    "import numpy as np\n",
    "\n",
    "# Reproducibility\n",
    "rng = np.random.default_rng(42)\n",
    "\n",
    "# Create synthetic data: N samples, 2 features\n",
    "N = 200\n",
    "x1 = rng.uniform(-2.0, 2.0, size=N)\n",
    "x2 = rng.uniform(-2.0, 2.0, size=N)\n",
    "X = np.stack([x1, x2], axis=1)  # shape (N, 2)\n",
    "\n",
    "# Nonlinear target with a bit of noise\n",
    "noise = rng.normal(0.0, 0.1, size=N)\n",
    "y = 1.2 * np.sin(x1) + 0.7 * x2 - 0.3 * x1 * x2 + noise\n",
    "y = y.reshape(y.size, 1)  # shape (N, 1)\n",
    "\n",
    "X.shape, y.shape\n",
    "\n",
    "# Now, let's plot it - this is a rotatable 3-D plot, drag it around to get familiar with the data\n",
    "import plotly.express as px\n",
    "import pandas as pd\n",
    "\n",
    "# Wrap into a DataFrame for nicer plotting\n",
    "df = pd.DataFrame({\"x1\": X[:,0], \"x2\": X[:,1], \"y\": y.squeeze()})\n",
    "\n",
    "fig = px.scatter_3d(\n",
    "    df, x=\"x1\", y=\"x2\", z=\"y\",\n",
    "    color=\"y\", opacity=0.7,\n",
    "    title=\"Interactive 3D view of the dataset\"\n",
    ")\n",
    "fig.update_traces(marker=dict(size=4))\n",
    "fig.show()\n",
    "\n"
   ],
   "outputs": [
    {
     "data": {
      "application/vnd.plotly.v1+json": {
       "data": [
        {
         "hovertemplate": "x1=%{x}<br>x2=%{y}<br>y=%{marker.color}<extra></extra>",
         "legendgroup": "",
         "marker": {
          "color": {
           "dtype": "f8",
           "bdata": "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"
          },
          "coloraxis": "coloraxis",
          "opacity": 0.7,
          "symbol": "circle",
          "size": 4
         },
         "mode": "markers",
         "name": "",
         "scene": "scene",
         "showlegend": false,
         "x": {
          "dtype": "f8",
          "bdata": "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"
         },
         "y": {
          "dtype": "f8",
          "bdata": "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"
         },
         "z": {
          "dtype": "f8",
          "bdata": "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"
         },
         "type": "scatter3d"
        }
       ],
       "layout": {
        "template": {
         "data": {
          "histogram2dcontour": [
           {
            "type": "histogram2dcontour",
            "colorbar": {
             "outlinewidth": 0,
             "ticks": ""
            },
            "colorscale": [
             [
              0.0,
              "#0d0887"
             ],
             [
              0.1111111111111111,
              "#46039f"
             ],
             [
              0.2222222222222222,
              "#7201a8"
             ],
             [
              0.3333333333333333,
              "#9c179e"
             ],
             [
              0.4444444444444444,
              "#bd3786"
             ],
             [
              0.5555555555555556,
              "#d8576b"
             ],
             [
              0.6666666666666666,
              "#ed7953"
             ],
             [
              0.7777777777777778,
              "#fb9f3a"
             ],
             [
              0.8888888888888888,
              "#fdca26"
             ],
             [
              1.0,
              "#f0f921"
             ]
            ]
           }
          ],
          "choropleth": [
           {
            "type": "choropleth",
            "colorbar": {
             "outlinewidth": 0,
             "ticks": ""
            }
           }
          ],
          "histogram2d": [
           {
            "type": "histogram2d",
            "colorbar": {
             "outlinewidth": 0,
             "ticks": ""
            },
            "colorscale": [
             [
              0.0,
              "#0d0887"
             ],
             [
              0.1111111111111111,
              "#46039f"
             ],
             [
              0.2222222222222222,
              "#7201a8"
             ],
             [
              0.3333333333333333,
              "#9c179e"
             ],
             [
              0.4444444444444444,
              "#bd3786"
             ],
             [
              0.5555555555555556,
              "#d8576b"
             ],
             [
              0.6666666666666666,
              "#ed7953"
             ],
             [
              0.7777777777777778,
              "#fb9f3a"
             ],
             [
              0.8888888888888888,
              "#fdca26"
             ],
             [
              1.0,
              "#f0f921"
             ]
            ]
           }
          ],
          "heatmap": [
           {
            "type": "heatmap",
            "colorbar": {
             "outlinewidth": 0,
             "ticks": ""
            },
            "colorscale": [
             [
              0.0,
              "#0d0887"
             ],
             [
              0.1111111111111111,
              "#46039f"
             ],
             [
              0.2222222222222222,
              "#7201a8"
             ],
             [
              0.3333333333333333,
              "#9c179e"
             ],
             [
              0.4444444444444444,
              "#bd3786"
             ],
             [
              0.5555555555555556,
              "#d8576b"
             ],
             [
              0.6666666666666666,
              "#ed7953"
             ],
             [
              0.7777777777777778,
              "#fb9f3a"
             ],
             [
              0.8888888888888888,
              "#fdca26"
             ],
             [
              1.0,
              "#f0f921"
             ]
            ]
           }
          ],
          "contourcarpet": [
           {
            "type": "contourcarpet",
            "colorbar": {
             "outlinewidth": 0,
             "ticks": ""
            }
           }
          ],
          "contour": [
           {
            "type": "contour",
            "colorbar": {
             "outlinewidth": 0,
             "ticks": ""
            },
            "colorscale": [
             [
              0.0,
              "#0d0887"
             ],
             [
              0.1111111111111111,
              "#46039f"
             ],
             [
              0.2222222222222222,
              "#7201a8"
             ],
             [
              0.3333333333333333,
              "#9c179e"
             ],
             [
              0.4444444444444444,
              "#bd3786"
             ],
             [
              0.5555555555555556,
              "#d8576b"
             ],
             [
              0.6666666666666666,
              "#ed7953"
             ],
             [
              0.7777777777777778,
              "#fb9f3a"
             ],
             [
              0.8888888888888888,
              "#fdca26"
             ],
             [
              1.0,
              "#f0f921"
             ]
            ]
           }
          ],
          "surface": [
           {
            "type": "surface",
            "colorbar": {
             "outlinewidth": 0,
             "ticks": ""
            },
            "colorscale": [
             [
              0.0,
              "#0d0887"
             ],
             [
              0.1111111111111111,
              "#46039f"
             ],
             [
              0.2222222222222222,
              "#7201a8"
             ],
             [
              0.3333333333333333,
              "#9c179e"
             ],
             [
              0.4444444444444444,
              "#bd3786"
             ],
             [
              0.5555555555555556,
              "#d8576b"
             ],
             [
              0.6666666666666666,
              "#ed7953"
             ],
             [
              0.7777777777777778,
              "#fb9f3a"
             ],
             [
              0.8888888888888888,
              "#fdca26"
             ],
             [
              1.0,
              "#f0f921"
             ]
            ]
           }
          ],
          "mesh3d": [
           {
            "type": "mesh3d",
            "colorbar": {
             "outlinewidth": 0,
             "ticks": ""
            }
           }
          ],
          "scatter": [
           {
            "fillpattern": {
             "fillmode": "overlay",
             "size": 10,
             "solidity": 0.2
            },
            "type": "scatter"
           }
          ],
          "parcoords": [
           {
            "type": "parcoords",
            "line": {
             "colorbar": {
              "outlinewidth": 0,
              "ticks": ""
             }
            }
           }
          ],
          "scatterpolargl": [
           {
            "type": "scatterpolargl",
            "marker": {
             "colorbar": {
              "outlinewidth": 0,
              "ticks": ""
             }
            }
           }
          ],
          "bar": [
           {
            "error_x": {
             "color": "#2a3f5f"
            },
            "error_y": {
             "color": "#2a3f5f"
            },
            "marker": {
             "line": {
              "color": "#E5ECF6",
              "width": 0.5
             },
             "pattern": {
              "fillmode": "overlay",
              "size": 10,
              "solidity": 0.2
             }
            },
            "type": "bar"
           }
          ],
          "scattergeo": [
           {
            "type": "scattergeo",
            "marker": {
             "colorbar": {
              "outlinewidth": 0,
              "ticks": ""
             }
            }
           }
          ],
          "scatterpolar": [
           {
            "type": "scatterpolar",
            "marker": {
             "colorbar": {
              "outlinewidth": 0,
              "ticks": ""
             }
            }
           }
          ],
          "histogram": [
           {
            "marker": {
             "pattern": {
              "fillmode": "overlay",
              "size": 10,
              "solidity": 0.2
             }
            },
            "type": "histogram"
           }
          ],
          "scattergl": [
           {
            "type": "scattergl",
            "marker": {
             "colorbar": {
              "outlinewidth": 0,
              "ticks": ""
             }
            }
           }
          ],
          "scatter3d": [
           {
            "type": "scatter3d",
            "line": {
             "colorbar": {
              "outlinewidth": 0,
              "ticks": ""
             }
            },
            "marker": {
             "colorbar": {
              "outlinewidth": 0,
              "ticks": ""
             }
            }
           }
          ],
          "scattermap": [
           {
            "type": "scattermap",
            "marker": {
             "colorbar": {
              "outlinewidth": 0,
              "ticks": ""
             }
            }
           }
          ],
          "scattermapbox": [
           {
            "type": "scattermapbox",
            "marker": {
             "colorbar": {
              "outlinewidth": 0,
              "ticks": ""
             }
            }
           }
          ],
          "scatterternary": [
           {
            "type": "scatterternary",
            "marker": {
             "colorbar": {
              "outlinewidth": 0,
              "ticks": ""
             }
            }
           }
          ],
          "scattercarpet": [
           {
            "type": "scattercarpet",
            "marker": {
             "colorbar": {
              "outlinewidth": 0,
              "ticks": ""
             }
            }
           }
          ],
          "carpet": [
           {
            "aaxis": {
             "endlinecolor": "#2a3f5f",
             "gridcolor": "white",
             "linecolor": "white",
             "minorgridcolor": "white",
             "startlinecolor": "#2a3f5f"
            },
            "baxis": {
             "endlinecolor": "#2a3f5f",
             "gridcolor": "white",
             "linecolor": "white",
             "minorgridcolor": "white",
             "startlinecolor": "#2a3f5f"
            },
            "type": "carpet"
           }
          ],
          "table": [
           {
            "cells": {
             "fill": {
              "color": "#EBF0F8"
             },
             "line": {
              "color": "white"
             }
            },
            "header": {
             "fill": {
              "color": "#C8D4E3"
             },
             "line": {
              "color": "white"
             }
            },
            "type": "table"
           }
          ],
          "barpolar": [
           {
            "marker": {
             "line": {
              "color": "#E5ECF6",
              "width": 0.5
             },
             "pattern": {
              "fillmode": "overlay",
              "size": 10,
              "solidity": 0.2
             }
            },
            "type": "barpolar"
           }
          ],
          "pie": [
           {
            "automargin": true,
            "type": "pie"
           }
          ]
         },
         "layout": {
          "autotypenumbers": "strict",
          "colorway": [
           "#636efa",
           "#EF553B",
           "#00cc96",
           "#ab63fa",
           "#FFA15A",
           "#19d3f3",
           "#FF6692",
           "#B6E880",
           "#FF97FF",
           "#FECB52"
          ],
          "font": {
           "color": "#2a3f5f"
          },
          "hovermode": "closest",
          "hoverlabel": {
           "align": "left"
          },
          "paper_bgcolor": "white",
          "plot_bgcolor": "#E5ECF6",
          "polar": {
           "bgcolor": "#E5ECF6",
           "angularaxis": {
            "gridcolor": "white",
            "linecolor": "white",
            "ticks": ""
           },
           "radialaxis": {
            "gridcolor": "white",
            "linecolor": "white",
            "ticks": ""
           }
          },
          "ternary": {
           "bgcolor": "#E5ECF6",
           "aaxis": {
            "gridcolor": "white",
            "linecolor": "white",
            "ticks": ""
           },
           "baxis": {
            "gridcolor": "white",
            "linecolor": "white",
            "ticks": ""
           },
           "caxis": {
            "gridcolor": "white",
            "linecolor": "white",
            "ticks": ""
           }
          },
          "coloraxis": {
           "colorbar": {
            "outlinewidth": 0,
            "ticks": ""
           }
          },
          "colorscale": {
           "sequential": [
            [
             0.0,
             "#0d0887"
            ],
            [
             0.1111111111111111,
             "#46039f"
            ],
            [
             0.2222222222222222,
             "#7201a8"
            ],
            [
             0.3333333333333333,
             "#9c179e"
            ],
            [
             0.4444444444444444,
             "#bd3786"
            ],
            [
             0.5555555555555556,
             "#d8576b"
            ],
            [
             0.6666666666666666,
             "#ed7953"
            ],
            [
             0.7777777777777778,
             "#fb9f3a"
            ],
            [
             0.8888888888888888,
             "#fdca26"
            ],
            [
             1.0,
             "#f0f921"
            ]
           ],
           "sequentialminus": [
            [
             0.0,
             "#0d0887"
            ],
            [
             0.1111111111111111,
             "#46039f"
            ],
            [
             0.2222222222222222,
             "#7201a8"
            ],
            [
             0.3333333333333333,
             "#9c179e"
            ],
            [
             0.4444444444444444,
             "#bd3786"
            ],
            [
             0.5555555555555556,
             "#d8576b"
            ],
            [
             0.6666666666666666,
             "#ed7953"
            ],
            [
             0.7777777777777778,
             "#fb9f3a"
            ],
            [
             0.8888888888888888,
             "#fdca26"
            ],
            [
             1.0,
             "#f0f921"
            ]
           ],
           "diverging": [
            [
             0,
             "#8e0152"
            ],
            [
             0.1,
             "#c51b7d"
            ],
            [
             0.2,
             "#de77ae"
            ],
            [
             0.3,
             "#f1b6da"
            ],
            [
             0.4,
             "#fde0ef"
            ],
            [
             0.5,
             "#f7f7f7"
            ],
            [
             0.6,
             "#e6f5d0"
            ],
            [
             0.7,
             "#b8e186"
            ],
            [
             0.8,
             "#7fbc41"
            ],
            [
             0.9,
             "#4d9221"
            ],
            [
             1,
             "#276419"
            ]
           ]
          },
          "xaxis": {
           "gridcolor": "white",
           "linecolor": "white",
           "ticks": "",
           "title": {
            "standoff": 15
           },
           "zerolinecolor": "white",
           "automargin": true,
           "zerolinewidth": 2
          },
          "yaxis": {
           "gridcolor": "white",
           "linecolor": "white",
           "ticks": "",
           "title": {
            "standoff": 15
           },
           "zerolinecolor": "white",
           "automargin": true,
           "zerolinewidth": 2
          },
          "scene": {
           "xaxis": {
            "backgroundcolor": "#E5ECF6",
            "gridcolor": "white",
            "linecolor": "white",
            "showbackground": true,
            "ticks": "",
            "zerolinecolor": "white",
            "gridwidth": 2
           },
           "yaxis": {
            "backgroundcolor": "#E5ECF6",
            "gridcolor": "white",
            "linecolor": "white",
            "showbackground": true,
            "ticks": "",
            "zerolinecolor": "white",
            "gridwidth": 2
           },
           "zaxis": {
            "backgroundcolor": "#E5ECF6",
            "gridcolor": "white",
            "linecolor": "white",
            "showbackground": true,
            "ticks": "",
            "zerolinecolor": "white",
            "gridwidth": 2
           }
          },
          "shapedefaults": {
           "line": {
            "color": "#2a3f5f"
           }
          },
          "annotationdefaults": {
           "arrowcolor": "#2a3f5f",
           "arrowhead": 0,
           "arrowwidth": 1
          },
          "geo": {
           "bgcolor": "white",
           "landcolor": "#E5ECF6",
           "subunitcolor": "white",
           "showland": true,
           "showlakes": true,
           "lakecolor": "white"
          },
          "title": {
           "x": 0.05
          },
          "mapbox": {
           "style": "light"
          }
         }
        },
        "scene": {
         "domain": {
          "x": [
           0.0,
           1.0
          ],
          "y": [
           0.0,
           1.0
          ]
         },
         "xaxis": {
          "title": {
           "text": "x1"
          }
         },
         "yaxis": {
          "title": {
           "text": "x2"
          }
         },
         "zaxis": {
          "title": {
           "text": "y"
          }
         }
        },
        "coloraxis": {
         "colorbar": {
          "title": {
           "text": "y"
          }
         },
         "colorscale": [
          [
           0.0,
           "#0d0887"
          ],
          [
           0.1111111111111111,
           "#46039f"
          ],
          [
           0.2222222222222222,
           "#7201a8"
          ],
          [
           0.3333333333333333,
           "#9c179e"
          ],
          [
           0.4444444444444444,
           "#bd3786"
          ],
          [
           0.5555555555555556,
           "#d8576b"
          ],
          [
           0.6666666666666666,
           "#ed7953"
          ],
          [
           0.7777777777777778,
           "#fb9f3a"
          ],
          [
           0.8888888888888888,
           "#fdca26"
          ],
          [
           1.0,
           "#f0f921"
          ]
         ]
        },
        "legend": {
         "tracegroupgap": 0
        },
        "title": {
         "text": "Interactive 3D view of the dataset"
        }
       },
       "config": {
        "plotlyServerURL": "https://plot.ly"
       }
      }
     },
     "metadata": {},
     "output_type": "display_data"
    }
   ],
   "execution_count": 10
  },
  {
   "cell_type": "markdown",
   "id": "371b7ff7",
   "metadata": {},
   "source": [
    "## 1. Let's Define the loss\n",
    "### Since we are preicting a single number, out good old friend make sense\n",
    "\n",
    "For a single example with prediction \\(\\hat{y}\\) and true value \\(y\\):\n",
    "$$\n",
    "L = \\tfrac{1}{2}(y - \\hat{y})^2\n",
    "$$\n",
    "\n",
    "For a batch of \\(N\\) examples:\n",
    "$$\n",
    "L = \\frac{1}{2N}\\sum_{i=1}^{N} \\left(y^{(i)} - \\hat{y}^{(i)}\\right)^2\n",
    "$$\n",
    "\n",
    "We include $ (\\tfrac{1}{2}) $ so the derivative of the square is clean."
   ]
  },
  {
   "cell_type": "code",
   "id": "47228370",
   "metadata": {
    "ExecuteTime": {
     "end_time": "2025-09-08T22:24:17.430278Z",
     "start_time": "2025-09-08T22:24:17.424744Z"
    }
   },
   "source": [
    "def mse_loss(y_pred: np.ndarray, y_true: np.ndarray) -> float:\n",
    "    \"\"\"\n",
    "    Mean Squared Error with a 1/2 factor:\n",
    "    \"\"\"\n",
    "    return 0.5 * np.square(y_pred - y_true).mean()\n",
    "\n",
    "## lets test it real quick\n",
    "y_pred_fake = np.array([1, 2, 3, 4, 5])\n",
    "y_actual_fake = np.array([1, 2, 3, 4, 5])\n",
    "\n",
    "assert 0.0 == mse_loss(y_pred_fake, y_actual_fake)\n",
    "\n",
    "\n",
    "y_pred_fake = np.array([1, 2, 3, 4, 5])\n",
    "y_actual_fake = np.array([2, 4, 6, 8, 10])\n",
    "\n",
    "# 1 + 4 + 9 + 16 + 25 = 55 / (2 * 5) = 5.5\n",
    "\n",
    "assert 5.5 == mse_loss(y_pred_fake, y_actual_fake)\n",
    "\n",
    "print(\"MSE Test Success.\")\n",
    "\n",
    "\n",
    "\n"
   ],
   "outputs": [
    {
     "name": "stdout",
     "output_type": "stream",
     "text": [
      "MSE Test Success.\n"
     ]
    }
   ],
   "execution_count": 18
  },
  {
   "metadata": {},
   "cell_type": "markdown",
   "source": "",
   "id": "6899425d5948125"
  },
  {
   "metadata": {},
   "cell_type": "markdown",
   "source": [
    "## 2. Forward pass (with biases via augmentation\n",
    "We’ll absorb biases by **augmenting** inputs with a constant 1.\n",
    "\n",
    "- Original input **X** has 2 features, so shape is `(N, 2)`.\n",
    "- $N$ in this case could be the number of datapoints we run through the network at the same time\n",
    "- During training N could be the number of datapoints of the entire datasets\n",
    "- More commonly N would be the number of data points in the training mini-batch \n",
    "- Augmented input **X** = `[X  1]` (append a column of ones), so shape is `(N, 3)`.  \n",
    "  From here on, **X** means the augmented one.\n",
    "\n",
    "### First layer (input to hidden, 4 neurons)\n",
    "\n",
    "- Weights `W[1]` has shape `(3, 4)`:\n",
    "  3 rows = augmented inputs, 4 columns = 4 neurons in the first hidden layer\n",
    "\n",
    "- Pre-activations:\n",
    "$$\n",
    "Z^{[1]} = X\\, W^{[1]}\n",
    "$$ \n",
    "- $Z$ is (N by 4), since $X$ is (N by 3) and we dotted it with $W^{[1]}$ which is (3 by 4)\n",
    "\n",
    "\n",
    "- Activations:\n",
    "$$\n",
    "H = \\sigma\\!\\left(Z^{[1]}\\right)\n",
    "$$\n",
    "\n",
    "### Hidden layer augmentation\n",
    "\n",
    "- Now since we are feeding the activations to another weight matrix, the one for the output layer, and we also want to have a bias unit for the output layer, we do the same augmentation trick for the activations output by our hidden layer\n",
    "$$\n",
    "H = [\\,H\\;\\;1\\,] \\quad \\in \\mathbb{R}^{N \\times 5}\n",
    "$$\n",
    "\n",
    "### Output layer (hidden to output, linear)\n",
    "\n",
    "- Weights `W[2]` has shape `(5, 1)`.\n",
    "\n",
    "- Predictions:\n",
    "$$\n",
    "\\hat{y} = H\\, W^{[2]} \\quad \\in \\mathbb{R}^{N \\times 1}\n",
    "$$\n",
    "\n",
    "### Sigmoid\n",
    "$$\n",
    "\\sigma(z) = \\frac{1}{1 + e^{-z}}\n",
    "$$\n",
    "\n",
    "#### Shape cheat-sheet\n",
    "    X: (N, 3)\n",
    "    \n",
    "    W[1]: (3, 4)\n",
    "    \n",
    "    Z[1], H: (N, 4)\n",
    "    \n",
    "    # Then we augment H\n",
    "    \n",
    "    H: (N, 5)\n",
    "    \n",
    "    W[2]: (5, 1)\n",
    "    \n",
    "    y_hat: (N, 1)"
   ],
   "id": "d1b1fe811eceed04"
  },
  {
   "cell_type": "markdown",
   "id": "eb1ac8d5",
   "metadata": {},
   "source": [
    "\n",
    "\n",
    "\n",
    "\n"
   ]
  },
  {
   "cell_type": "code",
   "id": "c1b5d95d",
   "metadata": {
    "ExecuteTime": {
     "end_time": "2025-09-08T23:04:38.452249Z",
     "start_time": "2025-09-08T23:04:38.442125Z"
    }
   },
   "source": [
    "def augment_with_ones(X: np.ndarray) -> np.ndarray:\n",
    "    '''Append a column of ones to X. If X is (N, d), returns (N, d+1).'''\n",
    "    ones = np.ones((X.shape[0], 1), dtype=X.dtype)\n",
    "    return np.hstack([X, ones])\n",
    "\n",
    "X_test= np.array([\n",
    "    [1, 2],\n",
    "    [3, 4],\n",
    "    [5, 6]\n",
    "])\n",
    "\n",
    "# print(\"Testing augment_with_ones\")\n",
    "# print(f\"X_test.shape: {X_test.shape}\")\n",
    "# X_test_augmented = augment_with_ones(X_test)\n",
    "# print(f\"X_test_augmented.shape: {X_test_augmented.shape}\")\n",
    "# print(\"========\")\n",
    "# print(\"X_test:\")\n",
    "# print(X_test)\n",
    "# print(\"========\")\n",
    "# print(\"X_test_augmented:\")\n",
    "# print(X_test_augmented)\n",
    "\n",
    "\n",
    "def sigmoid(z: np.ndarray) -> np.ndarray:\n",
    "    return 1.0 / (1.0 + np.exp(-z))\n",
    "\n",
    "# print(\"========\")\n",
    "# H_sigmoid_test = np.array([-10, -5, -1, 0.1, 0.25, 0.5, 1, 5])\n",
    "# print(\"Sigmoid test for: \", H_sigmoid_test)\n",
    "# np.set_printoptions(suppress=True)\n",
    "# print(sigmoid(H_sigmoid_test))\n",
    "\n",
    "def init_params(rng: np.random.Generator = np.random.default_rng(0), scale: float = 0.1):\n",
    "    '''Initialize weights for 2 to 4 to 1 MLP with bias via augmentation.'''\n",
    "    W1 = rng.normal(0.0, scale, size=(3, 4))  # (in+1=3) x (hidden=4)\n",
    "    W2 = rng.normal(0.0, scale, size=(5, 1))  # (hidden+1=5) x (out=1)\n",
    "    return {\"W1\": W1, \"W2\": W2}\n",
    "\n",
    "# print(\"========\")\n",
    "# print(\"Test init_params:\")\n",
    "# print(init_params())\n",
    "\n",
    "def forward(X: np.ndarray, params: dict):\n",
    "    '''\n",
    "    Forward pass.\n",
    "    X: shape (N, 2)\n",
    "    Returns: y_hat, cache\n",
    "    '''\n",
    "    W1, W2 = params[\"W1\"], params[\"W2\"]\n",
    "    X_aug = augment_with_ones(X)           # (N, 3)\n",
    "    Z1 = X_aug @ W1                        # (N, 3)\n",
    "    H = sigmoid(Z1)                        # (N, 3)\n",
    "    H_aug = augment_with_ones(H)           # (N, 4)\n",
    "    y_hat = H_aug @ W2                     # (N, 1) linear output\n",
    "    cache = {\"X_aug\": X_aug, \"Z1\": Z1, \"H\": H, \"H_aug\": H_aug, \"y_hat\": y_hat}\n",
    "    return y_hat, cache\n",
    "\n",
    "# Try a dry run\n",
    "params = init_params(rng)\n",
    "y_hat, cache = forward(X, params)\n",
    "print(\"Shapes -> X:\", X.shape, \"| W1:\", params[\"W1\"].shape, \"| W2:\", params[\"W2\"].shape, \"| y_hat:\", y_hat.shape)\n",
    "print(\"Initial loss (untrained):\", mse_loss(y, y_hat))"
   ],
   "outputs": [
    {
     "name": "stdout",
     "output_type": "stream",
     "text": [
      "Shapes -> X: (200, 2) | W1: (3, 4) | W2: (5, 1) | y_hat: (200, 1)\n",
      "Initial loss (untrained): 0.9068401815446941\n"
     ]
    }
   ],
   "execution_count": 26
  }
 ],
 "metadata": {
  "kernelspec": {
   "display_name": "Python 3",
   "language": "python",
   "name": "python3"
  },
  "language_info": {
   "name": "python",
   "version": "3.x"
  }
 },
 "nbformat": 4,
 "nbformat_minor": 5
}
